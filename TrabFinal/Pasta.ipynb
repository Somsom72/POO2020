{
 "cells": [
  {
   "cell_type": "code",
   "execution_count": 2,
   "metadata": {},
   "outputs": [],
   "source": [
    "class Pasta(object):\n",
    "    \n",
    "    def __new__(cls, nome):\n",
    "        if ' ' in nome or '/' in nome:\n",
    "            print(\"Nome invalido\")\n",
    "            return None\n",
    "\n",
    "        instance = super().__new__(cls)\n",
    "        instance.nome = nome\n",
    "        return instance\n",
    "    \n",
    "    #-------------------------------------------------------\n",
    "    def __init__(self, nome):\n",
    "        self.nome = nome\n",
    "        self.pai = None\n",
    "        self.filhos = {}\n",
    "        self.files = {}\n",
    "        self.is_empty = True\n",
    "    \n",
    "    #---------------------------------------------------------\n",
    "    def ls(self):\n",
    "        '''\n",
    "        Lista os arquivos e pastas do diretorio atual\n",
    "        '''\n",
    "        for sub in self.filhos:\n",
    "            print(\"\\033[1;32;48m\"+str(sub)+\"\\033[0;0;0m\")\n",
    "        \n",
    "        for file in self.files:\n",
    "            print(\"\\033[1;36;48m\"+str(file)+\"\\033[0;0;0m\")\n",
    "            \n",
    "    #---------------------------------------------------------        \n",
    "    def add(self, to_add):\n",
    "        '''\n",
    "        Adiciona um arquivo ou pasta ao diretório atual.\n",
    "        inputs:\n",
    "            to_add: Objeto do tipo Pasta ou Arquivo\n",
    "        '''\n",
    "        if(type(to_add) == Pasta):\n",
    "            if to_add.nome not in self.filhos:\n",
    "                to_add.pai = self\n",
    "                self.filhos[to_add.nome] = to_add\n",
    "            else:\n",
    "                print(\"Impossivel criar \"+str(to_add.nome)+\", pasta ja existe\")\n",
    "        \n",
    "        elif(type(to_add) == File):\n",
    "            if to_add.nome not in self.files:\n",
    "                to_add.pai = self\n",
    "                self.files[to_add.nome] = to_add\n",
    "            else:\n",
    "                print(\"Impossivel criar \"+str(to_add.nome)+\", arquivo ja existe\")\n",
    "    \n",
    "    #---------------------------------------------------------\n",
    "    def rm(self, to_rem):\n",
    "        '''\n",
    "        Remove um arquivo ou pasta do diretorio atual\n",
    "        inputs:\n",
    "            to_rem: String com o nome do arquivo ou pasta a ser removido\n",
    "        outputs:\n",
    "            rem: Objeto do tipo Arquivo ou Pasta que foi removido do diretorio atual\n",
    "        '''\n",
    "        rem = None\n",
    "        \n",
    "        if to_rem in self.filhos:\n",
    "            rem = self.filhos.pop(to_rem)\n",
    "        elif to_rem in self.files:\n",
    "            rem = self.files.pop(to_rem)\n",
    "        else:\n",
    "            print(\"Pasta ou arquivo \"+to_rem+\" inexistente\")\n",
    "                \n",
    "        return rem\n",
    "    \n",
    "    #---------------------------------------------------------\n",
    "    def cd(self, to_ent):\n",
    "        '''\n",
    "        Retorna a pasta filha especificada\n",
    "        inputs:\n",
    "            to_ent: String com o nome da pasta filha na qual se deseja entrar\n",
    "        outputs:\n",
    "            pasta filha desejada\n",
    "        '''\n",
    "        if to_ent in self.filhos:\n",
    "            return self.filhos[to_ent]\n",
    "        else:\n",
    "            print(\"Pasta \"+to_ent+\" inexistente em \"+str(self.nome))\n",
    "            return self"
   ]
  },
  {
   "cell_type": "code",
   "execution_count": 3,
   "metadata": {},
   "outputs": [],
   "source": [
    "class Envirorment(object):\n",
    "    def __init__(self):\n",
    "        self.root = Pasta('root')\n",
    "        \n",
    "        pst1 = Pasta('home')\n",
    "        pst1.add(Pasta('gustavo'))\n",
    "        pst1.add(Pasta('SomSom'))\n",
    "        \n",
    "        pst2 = Pasta('Nathan')\n",
    "        pst2.add(Pasta('p1'))\n",
    "        pst2.add(Pasta('p2'))\n",
    "        pst2.add(Pasta('p3'))\n",
    "        pst2.add(Pasta('p4'))\n",
    "        \n",
    "        pst1.add(pst2)\n",
    "        \n",
    "        self.root.add(pst1)\n",
    "        \n",
    "        self.pat = self.root\n",
    "        \n",
    "    #---------------------------------------------------------    \n",
    "    def cmdReader(self, cmd):\n",
    "        '''\n",
    "        Função que le e interpreta um comando passado ao terminal\n",
    "        input:\n",
    "            cmd: (String) Linha do comando dado ao terminal\n",
    "            root: (Pasta) Pasta root do sistema\n",
    "            pat: (Pasta) Pasta atual\n",
    "        '''\n",
    "        cmd = cmd.split(\" \")\n",
    "        \n",
    "        #ls = List ------------------------------------------\n",
    "        if cmd[0] == 'ls':\n",
    "            self.pat.ls()\n",
    "\n",
    "        #cd = Change Directory ------------------------------\n",
    "        elif cmd[0] == 'cd':\n",
    "            #Se for o comando de retornar\n",
    "            if cmd[-1] == '..':\n",
    "                #Se estiver na root retorna apropria root \n",
    "                if self.pat.pai == None:\n",
    "                    return\n",
    "                #Se não estiver na root retorna apasta pai\n",
    "                else:\n",
    "                    self.pat = self.pat.pai\n",
    "                    \n",
    "            #Se for o comando de entrar em uma pasta    \n",
    "            else:\n",
    "                #Se começar por / o caminho é definido a partir da root\n",
    "                if cmd[-1][0] == '/':\n",
    "                    self.pat = self.root\n",
    "                    #Se for apenas o /\n",
    "                    if cmd[-1] == '/':\n",
    "                        return\n",
    "                #Separa o caminho nos caracteres /\n",
    "                path = cmd[-1].split('/')\n",
    "                #Itera pelas pastas do caminho\n",
    "                for pasta in path:\n",
    "                    #Entra em cada pasta do caminho\n",
    "                    self.pat = self.pat.cd(pasta)\n",
    "                return"
   ]
  },
  {
   "cell_type": "code",
   "execution_count": 4,
   "metadata": {},
   "outputs": [
    {
     "name": "stdin",
     "output_type": "stream",
     "text": [
      " ls\n"
     ]
    },
    {
     "name": "stdout",
     "output_type": "stream",
     "text": [
      "\u001b[1;32;48mhome\u001b[0;0;0m\n"
     ]
    },
    {
     "name": "stdin",
     "output_type": "stream",
     "text": [
      " cd home\n",
      " ls\n"
     ]
    },
    {
     "name": "stdout",
     "output_type": "stream",
     "text": [
      "\u001b[1;32;48mgustavo\u001b[0;0;0m\n",
      "\u001b[1;32;48mSomSom\u001b[0;0;0m\n",
      "\u001b[1;32;48mNathan\u001b[0;0;0m\n"
     ]
    },
    {
     "name": "stdin",
     "output_type": "stream",
     "text": [
      " cd Nathan\n",
      " ls\n"
     ]
    },
    {
     "name": "stdout",
     "output_type": "stream",
     "text": [
      "\u001b[1;32;48mp1\u001b[0;0;0m\n",
      "\u001b[1;32;48mp2\u001b[0;0;0m\n",
      "\u001b[1;32;48mp3\u001b[0;0;0m\n",
      "\u001b[1;32;48mp4\u001b[0;0;0m\n"
     ]
    },
    {
     "name": "stdin",
     "output_type": "stream",
     "text": [
      " cd ..\n",
      " ls\n"
     ]
    },
    {
     "name": "stdout",
     "output_type": "stream",
     "text": [
      "\u001b[1;32;48mgustavo\u001b[0;0;0m\n",
      "\u001b[1;32;48mSomSom\u001b[0;0;0m\n",
      "\u001b[1;32;48mNathan\u001b[0;0;0m\n"
     ]
    },
    {
     "name": "stdin",
     "output_type": "stream",
     "text": [
      " cd /\n",
      " ls\n"
     ]
    },
    {
     "name": "stdout",
     "output_type": "stream",
     "text": [
      "\u001b[1;32;48mhome\u001b[0;0;0m\n"
     ]
    },
    {
     "name": "stdin",
     "output_type": "stream",
     "text": [
      " exit\n"
     ]
    }
   ],
   "source": [
    "env = Envirorment()\n",
    "cmd = str(input())\n",
    "while cmd != 'exit':\n",
    "    env.cmdReader(cmd)\n",
    "    cmd = str(input())"
   ]
  }
 ],
 "metadata": {
  "kernelspec": {
   "display_name": "Python 3",
   "language": "python",
   "name": "python3"
  },
  "language_info": {
   "codemirror_mode": {
    "name": "ipython",
    "version": 3
   },
   "file_extension": ".py",
   "mimetype": "text/x-python",
   "name": "python",
   "nbconvert_exporter": "python",
   "pygments_lexer": "ipython3",
   "version": "3.7.6"
  }
 },
 "nbformat": 4,
 "nbformat_minor": 4
}
